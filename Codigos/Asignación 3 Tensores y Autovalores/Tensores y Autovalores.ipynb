{
 "cells": [
  {
   "cell_type": "markdown",
   "id": "bdc653f0",
   "metadata": {},
   "source": [
    "# Tensores y Autovalores"
   ]
  },
  {
   "cell_type": "markdown",
   "id": "f4394674",
   "metadata": {},
   "source": [
    "Este código cálcula los momentos centrados de orden 0, 1, y 2 para una serie de datos. Estos datos incluyen las posiciones de un sistema de partículas y los porcentajes del PIB en Colombia usados en defensa, salud, educación, y ciencia y tecnología en los últimos años. Además, para cada matriz de covarianza asociada se encuentran los autovalores y autovectores de dicha matriz."
   ]
  },
  {
   "cell_type": "markdown",
   "id": "546cabd7",
   "metadata": {},
   "source": [
    "Autores: \\\n",
    "Juan Andrés Guarín Rojas, 2200815.\\\n",
    "Juan Diego Figueroa Hernandez, 2201870.\n",
    "\n",
    "Este programa se estructura en el siguiente orden:\n",
    "\n",
    "* [1. Importación de librerías.](#section-1)\n",
    "* [2. Sistema de partículas.](#section-2)\n",
    "    * [2.1 Caso 2D.](#section-2.1)\n",
    "    * [2.2 Caso 3D.](#section-2.2)\n",
    "* [3. PIB.](#section-3)"
   ]
  },
  {
   "cell_type": "markdown",
   "id": "629c6554",
   "metadata": {},
   "source": [
    "## 1. Importación de librerías  <a class=\"anchor\" id=\"section-1\"></a>"
   ]
  },
  {
   "cell_type": "code",
   "execution_count": 1,
   "id": "34b430dc",
   "metadata": {},
   "outputs": [],
   "source": [
    "import numpy as np\n",
    "import pandas as pd\n",
    "import matplotlib.pyplot as plt\n",
    "import sympy as sp"
   ]
  },
  {
   "cell_type": "markdown",
   "id": "bc336334",
   "metadata": {},
   "source": [
    "## 2. Sistema de partículas <a class=\"anchor\" id=\"section-2\"></a>"
   ]
  },
  {
   "cell_type": "markdown",
   "id": "0f824e9d",
   "metadata": {},
   "source": [
    "### 2.1 Caso 2D <a class=\"anchor\" id=\"section-2.1\"></a>"
   ]
  },
  {
   "cell_type": "markdown",
   "id": "e638d06d",
   "metadata": {},
   "source": [
    "Esta sección se estructura de la siguiente manera:\n",
    "\n",
    "* Lectura de datos.\n",
    "* Cálculo de los momentos centrados.\n",
    "* Determinación de los autovalores y autovectores."
   ]
  },
  {
   "cell_type": "markdown",
   "id": "5eaa897c",
   "metadata": {},
   "source": [
    "### Lectura de datos"
   ]
  },
  {
   "cell_type": "code",
   "execution_count": 2,
   "id": "a6fbb55f",
   "metadata": {
    "scrolled": false
   },
   "outputs": [
    {
     "data": {
      "text/html": [
       "<div>\n",
       "<style scoped>\n",
       "    .dataframe tbody tr th:only-of-type {\n",
       "        vertical-align: middle;\n",
       "    }\n",
       "\n",
       "    .dataframe tbody tr th {\n",
       "        vertical-align: top;\n",
       "    }\n",
       "\n",
       "    .dataframe thead th {\n",
       "        text-align: right;\n",
       "    }\n",
       "</style>\n",
       "<table border=\"1\" class=\"dataframe\">\n",
       "  <thead>\n",
       "    <tr style=\"text-align: right;\">\n",
       "      <th></th>\n",
       "      <th>masas</th>\n",
       "      <th>x</th>\n",
       "      <th>y</th>\n",
       "      <th>z</th>\n",
       "    </tr>\n",
       "    <tr>\n",
       "      <th>particula</th>\n",
       "      <th></th>\n",
       "      <th></th>\n",
       "      <th></th>\n",
       "      <th></th>\n",
       "    </tr>\n",
       "  </thead>\n",
       "  <tbody>\n",
       "    <tr>\n",
       "      <th>1</th>\n",
       "      <td>2.0</td>\n",
       "      <td>-53.0</td>\n",
       "      <td>79.0</td>\n",
       "      <td>-91.0</td>\n",
       "    </tr>\n",
       "    <tr>\n",
       "      <th>2</th>\n",
       "      <td>2.0</td>\n",
       "      <td>13.0</td>\n",
       "      <td>-142.0</td>\n",
       "      <td>-177.0</td>\n",
       "    </tr>\n",
       "    <tr>\n",
       "      <th>3</th>\n",
       "      <td>2.0</td>\n",
       "      <td>-109.0</td>\n",
       "      <td>-103.0</td>\n",
       "      <td>-120.0</td>\n",
       "    </tr>\n",
       "    <tr>\n",
       "      <th>4</th>\n",
       "      <td>2.0</td>\n",
       "      <td>4.0</td>\n",
       "      <td>-96.0</td>\n",
       "      <td>110.0</td>\n",
       "    </tr>\n",
       "    <tr>\n",
       "      <th>5</th>\n",
       "      <td>4.0</td>\n",
       "      <td>222.0</td>\n",
       "      <td>-22.0</td>\n",
       "      <td>-236.0</td>\n",
       "    </tr>\n",
       "    <tr>\n",
       "      <th>...</th>\n",
       "      <td>...</td>\n",
       "      <td>...</td>\n",
       "      <td>...</td>\n",
       "      <td>...</td>\n",
       "    </tr>\n",
       "    <tr>\n",
       "      <th>1529</th>\n",
       "      <td>3.0</td>\n",
       "      <td>1646.0</td>\n",
       "      <td>1612.0</td>\n",
       "      <td>-30.0</td>\n",
       "    </tr>\n",
       "    <tr>\n",
       "      <th>1530</th>\n",
       "      <td>2.0</td>\n",
       "      <td>1610.0</td>\n",
       "      <td>1650.0</td>\n",
       "      <td>-145.0</td>\n",
       "    </tr>\n",
       "    <tr>\n",
       "      <th>1531</th>\n",
       "      <td>5.0</td>\n",
       "      <td>1626.0</td>\n",
       "      <td>1537.0</td>\n",
       "      <td>96.0</td>\n",
       "    </tr>\n",
       "    <tr>\n",
       "      <th>1532</th>\n",
       "      <td>2.0</td>\n",
       "      <td>1390.0</td>\n",
       "      <td>1480.0</td>\n",
       "      <td>160.0</td>\n",
       "    </tr>\n",
       "    <tr>\n",
       "      <th>1533</th>\n",
       "      <td>2.0</td>\n",
       "      <td>1717.0</td>\n",
       "      <td>1464.0</td>\n",
       "      <td>-59.0</td>\n",
       "    </tr>\n",
       "  </tbody>\n",
       "</table>\n",
       "<p>1533 rows × 4 columns</p>\n",
       "</div>"
      ],
      "text/plain": [
       "           masas       x       y      z\n",
       "particula                              \n",
       "1            2.0   -53.0    79.0  -91.0\n",
       "2            2.0    13.0  -142.0 -177.0\n",
       "3            2.0  -109.0  -103.0 -120.0\n",
       "4            2.0     4.0   -96.0  110.0\n",
       "5            4.0   222.0   -22.0 -236.0\n",
       "...          ...     ...     ...    ...\n",
       "1529         3.0  1646.0  1612.0  -30.0\n",
       "1530         2.0  1610.0  1650.0 -145.0\n",
       "1531         5.0  1626.0  1537.0   96.0\n",
       "1532         2.0  1390.0  1480.0  160.0\n",
       "1533         2.0  1717.0  1464.0  -59.0\n",
       "\n",
       "[1533 rows x 4 columns]"
      ]
     },
     "execution_count": 2,
     "metadata": {},
     "output_type": "execute_result"
    }
   ],
   "source": [
    "df = pd.read_csv('datosmasas.csv')\n",
    "df = df.set_index('particula')\n",
    "df"
   ]
  },
  {
   "cell_type": "markdown",
   "id": "c397fc50",
   "metadata": {},
   "source": [
    "### Calculo de momentos centrados"
   ]
  },
  {
   "cell_type": "markdown",
   "id": "6720042f",
   "metadata": {},
   "source": [
    "Momento de orden 0."
   ]
  },
  {
   "cell_type": "code",
   "execution_count": 5,
   "id": "8cc581cf",
   "metadata": {},
   "outputs": [
    {
     "name": "stdout",
     "output_type": "stream",
     "text": [
      "nu_0 =  4627.0\n"
     ]
    }
   ],
   "source": [
    "# se suman todos los pesos de las partículas\n",
    "nu_0 = sum(df['masas'].values)\n",
    "print(\"nu_0 = \",nu_0)"
   ]
  },
  {
   "cell_type": "markdown",
   "id": "921c551c",
   "metadata": {},
   "source": [
    "Momento de orden 1."
   ]
  },
  {
   "cell_type": "code",
   "execution_count": 6,
   "id": "f0029fb0",
   "metadata": {},
   "outputs": [
    {
     "name": "stdout",
     "output_type": "stream",
     "text": [
      "nu_1 =  [3.84130767 1.04833255]\n"
     ]
    }
   ],
   "source": [
    "# Se hallan algunos parametros\n",
    "m = df['masas'].values                 # Vector con las masas.\n",
    "N = np.size(m)                         # No. de partículas.\n",
    "\n",
    "# Se halla el promedio en x y y.\n",
    "p = np.array([sum(df['x'].values)/N, \n",
    "              sum(df['y'].values)/N])\n",
    "\n",
    "# Se halla la matriz con las posiciones y el momento 1.\n",
    "X = df.loc[:,'x':'y'].values         # Matriz 1533x2 con los datos de posición.\n",
    "nu_1 = np.dot(m, X - p)              # \"X-p\" significa que a cada fila de X se le resta el vector p.\n",
    "\n",
    "# Se divide entre la suma de masas para que nu_1 sea el centro de masas exacto.\n",
    "nu_1 = nu_1 / sum(m)      \n",
    "\n",
    "print(\"nu_1 = \",nu_1)"
   ]
  },
  {
   "cell_type": "markdown",
   "id": "5f3f0f96",
   "metadata": {},
   "source": [
    "Momento de orden 2"
   ]
  },
  {
   "cell_type": "code",
   "execution_count": 8,
   "id": "a4b19636",
   "metadata": {
    "scrolled": true
   },
   "outputs": [
    {
     "name": "stdout",
     "output_type": "stream",
     "text": [
      "nu_2 = \n",
      " [[ 9.73052902e+08 -9.11766544e+08]\n",
      " [-9.11766544e+08  9.58603863e+08]]\n"
     ]
    }
   ],
   "source": [
    "# Se declaran algunos parametros.\n",
    "nu_2 = np.zeros((2,2))\n",
    "x = df.loc[:,'x'].values  \n",
    "y = df.loc[:,'y'].values  \n",
    "\n",
    "# Se hallan las componentes de la matriz del momento 2.\n",
    "nu_2[0][0] = np.dot(m,(x - p[0])**2)  # x-p[0] indica que a cada componente de x se le resta el escalar p[0],\n",
    "                                      # (x-p[0])**2 indica que cada componente de (x-p[0]) se eleva al cuadrado.\n",
    "nu_2[0][1] = np.dot(m,(x - p[0])*(y - p[1])) #(x-p[0])*(y-p[1]) indica multiplicacion componente a componente.\n",
    "nu_2[1][0] = np.dot(m,(y - p[1])*(x - p[0])) \n",
    "nu_2[1][1] = np.dot(m,(y - p[0])**2) \n",
    "\n",
    "#Se modifica nu_2 para que sea el tensor de inercia.\n",
    "nu_2[0][1] = -nu_2[0][1]\n",
    "nu_2[1][0] = -nu_2[1][0]\n",
    "aux = nu_2[0][0]\n",
    "nu_2[0][0] = nu_2[1][1]\n",
    "nu_2[1][1] = aux\n",
    "\n",
    "#Mostrando resultados.\n",
    "print(\"nu_2 = \\n\",nu_2)"
   ]
  },
  {
   "cell_type": "code",
   "execution_count": 27,
   "id": "e68c4727",
   "metadata": {},
   "outputs": [
    {
     "data": {
      "image/png": "[encoded data removed]",
      "text/plain": [
       "<Figure size 432x288 with 1 Axes>"
      ]
     },
     "metadata": {
      "needs_background": "light"
     },
     "output_type": "display_data"
    },
    {
     "data": {
      "image/png": "[encoded data removed]",
      "text/plain": [
       "<Figure size 432x288 with 1 Axes>"
      ]
     },
     "metadata": {
      "needs_background": "light"
     },
     "output_type": "display_data"
    },
    {
     "name": "stdout",
     "output_type": "stream",
     "text": [
      "Centro de masas: [825.82, 776.92]\n",
      "\n",
      "Centro geométrico: [821.97, 775.87]\n",
      "\n",
      "Velocidad angular:\n",
      " w =  [[0]\n",
      " [1]]\n",
      "\n",
      "Momentum lineal: \n",
      "L =  [[-9.11766544e+08]\n",
      " [ 9.58603863e+08]]\n"
     ]
    }
   ],
   "source": [
    "#Se grafica centro de masas y partículas.\n",
    "plt.figure(figsize=(6,4))                                           # Tamaño de imagen de (6,4).\n",
    "plt.plot(x,y, '*b', markersize=2, label=\"Partículas\")               # Gráfica de las partículas.\n",
    "plt.plot(nu_1[0]+p[0],nu_1[1]+p[1],'or',label=\"Centro de masas\")    # Se le suman las coordenadas de p al centro de masas, pues \n",
    "                                                                        # nu_1, fue calculado en un sistema de coordenadas centrado en p\n",
    "plt.legend()\n",
    "plt.show()\n",
    "\n",
    "#Se grafica centro de masas, partículas y el vector de momentum angular usando el tensor de inercia.\n",
    "\n",
    "plt.figure(figsize=(6,4))\n",
    "plt.plot(x,y, '*b', markersize=2,label=\"Partículas\")\n",
    "plt.plot(nu_1[0]+p[0],nu_1[1]+p[1],'or',label=\"centro de masas\")\n",
    "\n",
    "# Se calcula el momentum angular\n",
    "w = np.array([[0],[1]])   #Un pseudovector de velocidad angular\n",
    "L = np.dot(nu_2,w)        #El vector de momentum angular total del sistema, con la velocidad angular dada\n",
    "plt.quiver(p[0],p[1],L[0]/1e6,L[1]/1e6,color='cyan',angles='xy', scale_units='xy', scale=1, label=r\"Momentum Angular $L$\")\n",
    "plt.quiver(p[0],p[1],500*w[0],500*w[1],color='red',angles='xy', scale_units='xy', scale=1, label =r\"Velocidad angular $\\omega$\")\n",
    "plt.legend(loc=4)\n",
    "\n",
    "# Se muetra texto en pantalla\n",
    "plt.text(780, 1400, r'$\\bf{\\omega}$', fontsize=15, color='red')\n",
    "plt.text(250, 1500, r'$L^{m}=I^{m}_{k} \\omega^{k}$', fontsize=15, color='cyan')\n",
    "plt.show()\n",
    "\n",
    "print(\"Centro de masas: [{}, {}]\".format(np.round(nu_1[0]+p[0],2),np.round(nu_1[1]+p[1],2)))\n",
    "print(\"\\nCentro geométrico: [{}, {}]\".format(np.round(p[0],2),np.round(p[1],2)))\n",
    "print(\"\\nVelocidad angular:\\n w = \",w)\n",
    "print(\"\\nMomentum lineal: \\nL = \",L)"
   ]
  },
  {
   "cell_type": "markdown",
   "id": "881c52bf",
   "metadata": {},
   "source": [
    "## Determinación de los autovalores y autovectores"
   ]
  },
  {
   "cell_type": "code",
   "execution_count": 28,
   "id": "256b94e0",
   "metadata": {
    "scrolled": false
   },
   "outputs": [
    {
     "name": "stdout",
     "output_type": "stream",
     "text": [
      "Autovalores =  [1.87762355e+09 5.40332166e+07]\n",
      "\n",
      "Autovectores = \n",
      " [[ 0.7099026   0.70429986]\n",
      " [-0.70429986  0.7099026 ]]\n"
     ]
    }
   ],
   "source": [
    "e,v = np.linalg.eig(nu_2)\n",
    "v1 = v[:,0]               #autovector uno\n",
    "v2 = v[:,1]               #autovector dos\n",
    "\n",
    "print(\"Autovalores = \",e)\n",
    "print(\"\\nAutovectores = \\n\",v)"
   ]
  },
  {
   "cell_type": "markdown",
   "id": "d467add8",
   "metadata": {},
   "source": [
    "### Caso 3D <a class=\"anchor\" id=\"section-2.2\"></a>"
   ]
  },
  {
   "cell_type": "markdown",
   "id": "4883a29f",
   "metadata": {},
   "source": [
    "Esta sección se estructura de la siguiente manera:\n",
    "\n",
    "* Lectura de datos.\n",
    "* Cálculo de los momentos centrados.\n",
    "* Determinación de los autovalores y autovectores."
   ]
  },
  {
   "cell_type": "code",
   "execution_count": null,
   "id": "5b1fb4c3",
   "metadata": {},
   "outputs": [],
   "source": []
  },
  {
   "cell_type": "code",
   "execution_count": null,
   "id": "8df32e42",
   "metadata": {},
   "outputs": [],
   "source": []
  },
  {
   "cell_type": "markdown",
   "id": "44145a27",
   "metadata": {},
   "source": [
    "## 3. PIB <a class=\"anchor\" id=\"section-3\"></a>"
   ]
  },
  {
   "cell_type": "markdown",
   "id": "53c7aed6",
   "metadata": {},
   "source": [
    "Esta sección se estructura de la siguiente manera:\n",
    "\n",
    "* Lectura de datos.\n",
    "* Cálculo de la matriz de covarianza y correlación.\n",
    "* Determinación de los autovalores y autovectores.\n",
    "* Matriz de Transformación del Espacio Normal al Espacio Propio."
   ]
  },
  {
   "cell_type": "markdown",
   "id": "ee6b5f17",
   "metadata": {},
   "source": [
    "### Lectura de datos"
   ]
  },
  {
   "cell_type": "code",
   "execution_count": 29,
   "id": "ec04caec",
   "metadata": {
    "scrolled": false
   },
   "outputs": [
    {
     "data": {
      "text/html": [
       "<div>\n",
       "<style scoped>\n",
       "    .dataframe tbody tr th:only-of-type {\n",
       "        vertical-align: middle;\n",
       "    }\n",
       "\n",
       "    .dataframe tbody tr th {\n",
       "        vertical-align: top;\n",
       "    }\n",
       "\n",
       "    .dataframe thead th {\n",
       "        text-align: right;\n",
       "    }\n",
       "</style>\n",
       "<table border=\"1\" class=\"dataframe\">\n",
       "  <thead>\n",
       "    <tr style=\"text-align: right;\">\n",
       "      <th></th>\n",
       "      <th>year</th>\n",
       "      <th>defense</th>\n",
       "      <th>health</th>\n",
       "      <th>education</th>\n",
       "      <th>science and technology</th>\n",
       "    </tr>\n",
       "    <tr>\n",
       "      <th>index</th>\n",
       "      <th></th>\n",
       "      <th></th>\n",
       "      <th></th>\n",
       "      <th></th>\n",
       "      <th></th>\n",
       "    </tr>\n",
       "  </thead>\n",
       "  <tbody>\n",
       "    <tr>\n",
       "      <th>1</th>\n",
       "      <td>2004</td>\n",
       "      <td>3.465015</td>\n",
       "      <td>5.798928</td>\n",
       "      <td>4.07935</td>\n",
       "      <td>0.15353</td>\n",
       "    </tr>\n",
       "    <tr>\n",
       "      <th>2</th>\n",
       "      <td>2005</td>\n",
       "      <td>3.352873</td>\n",
       "      <td>6.067098</td>\n",
       "      <td>4.02099</td>\n",
       "      <td>0.15086</td>\n",
       "    </tr>\n",
       "    <tr>\n",
       "      <th>3</th>\n",
       "      <td>2006</td>\n",
       "      <td>3.276131</td>\n",
       "      <td>6.335515</td>\n",
       "      <td>3.91672</td>\n",
       "      <td>0.14950</td>\n",
       "    </tr>\n",
       "    <tr>\n",
       "      <th>4</th>\n",
       "      <td>2007</td>\n",
       "      <td>3.266740</td>\n",
       "      <td>6.491028</td>\n",
       "      <td>4.08301</td>\n",
       "      <td>0.18455</td>\n",
       "    </tr>\n",
       "    <tr>\n",
       "      <th>5</th>\n",
       "      <td>2008</td>\n",
       "      <td>3.744606</td>\n",
       "      <td>6.841927</td>\n",
       "      <td>3.93878</td>\n",
       "      <td>0.20125</td>\n",
       "    </tr>\n",
       "    <tr>\n",
       "      <th>6</th>\n",
       "      <td>2009</td>\n",
       "      <td>3.885354</td>\n",
       "      <td>7.311347</td>\n",
       "      <td>4.77652</td>\n",
       "      <td>0.19608</td>\n",
       "    </tr>\n",
       "    <tr>\n",
       "      <th>7</th>\n",
       "      <td>2010</td>\n",
       "      <td>3.642756</td>\n",
       "      <td>7.071301</td>\n",
       "      <td>4.83383</td>\n",
       "      <td>0.19501</td>\n",
       "    </tr>\n",
       "    <tr>\n",
       "      <th>8</th>\n",
       "      <td>2011</td>\n",
       "      <td>3.081614</td>\n",
       "      <td>6.780768</td>\n",
       "      <td>4.46608</td>\n",
       "      <td>0.20595</td>\n",
       "    </tr>\n",
       "    <tr>\n",
       "      <th>9</th>\n",
       "      <td>2012</td>\n",
       "      <td>3.158960</td>\n",
       "      <td>6.745996</td>\n",
       "      <td>4.37039</td>\n",
       "      <td>0.23378</td>\n",
       "    </tr>\n",
       "    <tr>\n",
       "      <th>10</th>\n",
       "      <td>2013</td>\n",
       "      <td>3.274401</td>\n",
       "      <td>7.017241</td>\n",
       "      <td>4.87855</td>\n",
       "      <td>0.27111</td>\n",
       "    </tr>\n",
       "    <tr>\n",
       "      <th>11</th>\n",
       "      <td>2014</td>\n",
       "      <td>3.108259</td>\n",
       "      <td>7.185532</td>\n",
       "      <td>4.62946</td>\n",
       "      <td>0.30563</td>\n",
       "    </tr>\n",
       "    <tr>\n",
       "      <th>12</th>\n",
       "      <td>2015</td>\n",
       "      <td>3.109960</td>\n",
       "      <td>7.523386</td>\n",
       "      <td>4.47039</td>\n",
       "      <td>0.28975</td>\n",
       "    </tr>\n",
       "    <tr>\n",
       "      <th>13</th>\n",
       "      <td>2016</td>\n",
       "      <td>3.071131</td>\n",
       "      <td>7.531170</td>\n",
       "      <td>4.47721</td>\n",
       "      <td>0.26694</td>\n",
       "    </tr>\n",
       "    <tr>\n",
       "      <th>14</th>\n",
       "      <td>2017</td>\n",
       "      <td>3.209062</td>\n",
       "      <td>7.678643</td>\n",
       "      <td>4.53551</td>\n",
       "      <td>0.24286</td>\n",
       "    </tr>\n",
       "    <tr>\n",
       "      <th>15</th>\n",
       "      <td>2018</td>\n",
       "      <td>3.062106</td>\n",
       "      <td>7.639800</td>\n",
       "      <td>4.44910</td>\n",
       "      <td>0.23462</td>\n",
       "    </tr>\n",
       "  </tbody>\n",
       "</table>\n",
       "</div>"
      ],
      "text/plain": [
       "       year   defense    health  education  science and technology\n",
       "index                                                             \n",
       "1      2004  3.465015  5.798928    4.07935                 0.15353\n",
       "2      2005  3.352873  6.067098    4.02099                 0.15086\n",
       "3      2006  3.276131  6.335515    3.91672                 0.14950\n",
       "4      2007  3.266740  6.491028    4.08301                 0.18455\n",
       "5      2008  3.744606  6.841927    3.93878                 0.20125\n",
       "6      2009  3.885354  7.311347    4.77652                 0.19608\n",
       "7      2010  3.642756  7.071301    4.83383                 0.19501\n",
       "8      2011  3.081614  6.780768    4.46608                 0.20595\n",
       "9      2012  3.158960  6.745996    4.37039                 0.23378\n",
       "10     2013  3.274401  7.017241    4.87855                 0.27111\n",
       "11     2014  3.108259  7.185532    4.62946                 0.30563\n",
       "12     2015  3.109960  7.523386    4.47039                 0.28975\n",
       "13     2016  3.071131  7.531170    4.47721                 0.26694\n",
       "14     2017  3.209062  7.678643    4.53551                 0.24286\n",
       "15     2018  3.062106  7.639800    4.44910                 0.23462"
      ]
     },
     "execution_count": 29,
     "metadata": {},
     "output_type": "execute_result"
    }
   ],
   "source": [
    "DF = pd.read_csv('porcentages_pib.csv')\n",
    "DF = DF.set_index('index')\n",
    "DF"
   ]
  },
  {
   "cell_type": "markdown",
   "id": "53e37934",
   "metadata": {},
   "source": [
    "### Cálculo de la matriz de covarianza y correlación"
   ]
  },
  {
   "cell_type": "code",
   "execution_count": 30,
   "id": "93505da9",
   "metadata": {
    "scrolled": false
   },
   "outputs": [
    {
     "name": "stdout",
     "output_type": "stream",
     "text": [
      "Matriz de covarianza: cov = \n",
      " [[ 0.94495027 -0.451933   -0.00736043 -0.08856462]\n",
      " [-0.451933    4.64968509  1.68248451  0.3044009 ]\n",
      " [-0.00736043  1.68248451  1.44143567  0.13665563]\n",
      " [-0.08856462  0.3044009   0.13665563  0.03508754]]\n",
      "\n",
      "Matriz de correlación: corr = \n",
      " [[ 1.         -0.2156045  -0.00630668 -0.48638404]\n",
      " [-0.2156045   1.          0.64989272  0.75362919]\n",
      " [-0.00630668  0.64989272  1.          0.60764995]\n",
      " [-0.48638404  0.75362919  0.60764995  1.        ]]\n"
     ]
    },
    {
     "data": {
      "image/png": "[encoded data removed]",
      "text/plain": [
       "<Figure size 432x288 with 2 Axes>"
      ]
     },
     "metadata": {
      "needs_background": "light"
     },
     "output_type": "display_data"
    }
   ],
   "source": [
    "#Matriz de covarianza, usando el momento centrado de orden 2.\n",
    "years = DF['year'].values\n",
    "N = np.size(years)                           #Cantidad de años.\n",
    "P = np.array([sum(DF['defense'].values)/N,   #Promedios en defensa, salud, educacion, y ciencia y tecnología.\n",
    "              sum(DF['health'].values)/N,\n",
    "              sum(DF['education'].values)/N,\n",
    "              sum(DF['science and technology'].values)/N])\n",
    "\n",
    "\n",
    "X1 = DF['defense'].values #Datos de defensa para todos los años.\n",
    "X2 = DF['health'].values\n",
    "X3 = DF['education'].values\n",
    "X4 = DF['science and technology'].values\n",
    "\n",
    "cov = np.zeros((4,4))            #matriz de covarianza.\n",
    "cov[0][0] = sum((X1 - P[0])**2)  #En este caso, X1-P[0] indica que a cada componente de X1 se le resta P[0],\n",
    "                                 #y aX1más (X1-P[0])**2 indica que cada componente de (X1-P[0]) se eleva al cuadrado.\n",
    "cov[1][1] = sum((X2 - P[1])**2) \n",
    "cov[2][2] = sum((X3 - P[2])**2) \n",
    "cov[3][3] = sum((X4 - P[3])**2) \n",
    "\n",
    "cov[0][1] = sum((X1 - P[0])*(X2 - P[1])) #En este caso, (X1-P[0])*(X2-P[1]) indica multiplicacion componente a componente.\n",
    "cov[0][2] = sum((X1 - P[0])*(X3 - P[2]))\n",
    "cov[0][3] = sum((X1 - P[0])*(X4 - P[3])) \n",
    "\n",
    "cov[1][0] = sum((X2 - P[1])*(X1 - P[0])) \n",
    "cov[1][2] = sum((X2 - P[1])*(X3 - P[2])) \n",
    "cov[1][3] = sum((X2 - P[1])*(X4 - P[3])) \n",
    "\n",
    "cov[2][0] = sum((X3 - P[2])*(X1 - P[0]))\n",
    "cov[2][1] = sum((X3 - P[2])*(X2 - P[1])) \n",
    "cov[2][3] = sum((X3 - P[2])*(X4 - P[3])) \n",
    "\n",
    "cov[3][0] = sum((X4 - P[3])*(X1 - P[0])) \n",
    "cov[3][1] = sum((X4 - P[3])*(X2 - P[1])) \n",
    "cov[3][2] = sum((X4 - P[3])*(X3 - P[2])) \n",
    "\n",
    "#Matriz de correlación.\n",
    "sigmas = [[np.sqrt(sum( (X1-P[0])**2 ))],  #Desviación estándar de los datos respecto a su promedio.\n",
    "          [np.sqrt(sum( (X2-P[1])**2 ))],\n",
    "          [np.sqrt(sum( (X3-P[2])**2 ))],\n",
    "          [np.sqrt(sum( (X4-P[3])**2 ))]]\n",
    "\n",
    "Sigma = np.dot(sigmas, np.transpose(sigmas))\n",
    "\n",
    "corr = cov / Sigma           #En este caso, cov/Sigma indica división componente a componente.\n",
    "\n",
    "#Mostrar resultados.\n",
    "print(\"Matriz de covarianza: cov = \\n\",cov)\n",
    "print(\"\\nMatriz de correlación: corr = \\n\", corr)\n",
    "\n",
    "plt.figure()\n",
    "plt.title(\"Matriz de correlación de los datos\")\n",
    "plt.xticks(range(4),['X1','X2','X3','X4'])\n",
    "plt.yticks(range(4),['X1','X2','X3','X4'])\n",
    "plt.imshow(corr)\n",
    "plt.colorbar()\n",
    "plt.show()"
   ]
  },
  {
   "cell_type": "markdown",
   "id": "39b206e8",
   "metadata": {},
   "source": [
    "### Determinación de los autovalores y autovectores"
   ]
  },
  {
   "cell_type": "code",
   "execution_count": 31,
   "id": "192ed92b",
   "metadata": {
    "scrolled": true
   },
   "outputs": [
    {
     "name": "stdout",
     "output_type": "stream",
     "text": [
      "Autovalores =  [5.43093764 1.00923497 0.62145049 0.00953547]\n",
      "\n",
      "Autovectores = \n",
      " [[ 0.09402548 -0.85626105 -0.50251671  0.07384556]\n",
      " [-0.91465725  0.12102433 -0.38345273 -0.04146357]\n",
      " [-0.388067   -0.50009899  0.77278639 -0.04589344]\n",
      " [-0.06297087  0.04550954  0.05693992  0.99534989]]\n"
     ]
    }
   ],
   "source": [
    "E,V = np.linalg.eig(cov)\n",
    "V1 = V[:,0].reshape((4,1))          #Autovector uno.\n",
    "V2 = V[:,1].reshape((4,1))          #Autovector dos.\n",
    "V1 = V[:,0].reshape((4,1))          #Autovector tres.\n",
    "V2 = V[:,1].reshape((4,1))          #Autovector cuatro.\n",
    "\n",
    "print(\"Autovalores = \",E)\n",
    "print(\"\\nAutovectores = \\n\",V)"
   ]
  },
  {
   "cell_type": "markdown",
   "id": "1ff61726",
   "metadata": {},
   "source": [
    "### Matriz de Transformación del Espacio Normal al Espacio Propio."
   ]
  },
  {
   "cell_type": "code",
   "execution_count": 36,
   "id": "0bf89890",
   "metadata": {
    "scrolled": true
   },
   "outputs": [
    {
     "name": "stdout",
     "output_type": "stream",
     "text": [
      "M =  [[-0.03191625 -1.04059898 -0.51400873 -0.06297087]\n",
      " [-0.76524198  0.2120434  -0.40907991  0.04550954]\n",
      " [-0.38863688 -0.2695729   0.88666622  0.05693992]\n",
      " [ 2.06454534  1.94923621  1.94480633  0.99534989]]\n"
     ]
    }
   ],
   "source": [
    "#Base normal\n",
    "e1 = np.array([[1],[0],[0],[2]])\n",
    "e2 = np.array([[0],[1],[0],[2]])\n",
    "e3 = np.array([[0],[0],[1],[2]])\n",
    "e4 = np.array([[0],[0],[0],[1]])\n",
    "\n",
    "# Se crea la matriz B con los vectores de la base como columnas\n",
    "B=np.array([np.transpose(e1)[0],np.transpose(e2)[0],np.transpose(e3)[0],np.transpose(e4)[0]])\n",
    "B=np.transpose(B)\n",
    "\n",
    "#Matriz de cambio de coordenadas de la base propia a la normal.\n",
    "M = np.dot(np.linalg.inv(V),B)\n",
    "print(\"M = \",M)"
   ]
  },
  {
   "cell_type": "markdown",
   "id": "3df68778",
   "metadata": {},
   "source": [
    "## Tests"
   ]
  },
  {
   "cell_type": "code",
   "execution_count": 11,
   "id": "443d05de",
   "metadata": {},
   "outputs": [],
   "source": [
    "from sympy import *\n",
    "x = Symbol('x')\n",
    "y = Symbol('y')"
   ]
  },
  {
   "cell_type": "code",
   "execution_count": 20,
   "id": "415f9f10",
   "metadata": {},
   "outputs": [
    {
     "data": {
      "text/plain": [
       "array([[ 0.09402548, -0.91465725, -0.388067  , -0.06297087],\n",
       "       [-0.85626105,  0.12102433, -0.50009899,  0.04550954],\n",
       "       [-0.50251671, -0.38345273,  0.77278639,  0.05693992],\n",
       "       [ 0.07384556, -0.04146357, -0.04589344,  0.99534989]])"
      ]
     },
     "execution_count": 20,
     "metadata": {},
     "output_type": "execute_result"
    }
   ],
   "source": [
    "np.linalg.inv(V)"
   ]
  },
  {
   "cell_type": "code",
   "execution_count": 18,
   "id": "21fa9606",
   "metadata": {
    "scrolled": true
   },
   "outputs": [
    {
     "data": {
      "text/latex": [
       "$\\displaystyle x^{1}$"
      ],
      "text/plain": [
       "x^1"
      ]
     },
     "execution_count": 18,
     "metadata": {},
     "output_type": "execute_result"
    }
   ],
   "source": [
    "x1"
   ]
  },
  {
   "cell_type": "code",
   "execution_count": 32,
   "id": "19b46c3d",
   "metadata": {
    "scrolled": true
   },
   "outputs": [
    {
     "data": {
      "text/latex": [
       "$\\displaystyle 0.9$"
      ],
      "text/plain": [
       "0.900000000000000"
      ]
     },
     "execution_count": 32,
     "metadata": {},
     "output_type": "execute_result"
    }
   ],
   "source": [
    "diff(0.9*x1,x1)"
   ]
  },
  {
   "cell_type": "code",
   "execution_count": 22,
   "id": "79ca0a36",
   "metadata": {
    "scrolled": true
   },
   "outputs": [
    {
     "data": {
      "text/plain": [
       "array([[x^1],\n",
       "       [x^2],\n",
       "       [x^3],\n",
       "       [x^4]], dtype=object)"
      ]
     },
     "execution_count": 22,
     "metadata": {},
     "output_type": "execute_result"
    }
   ],
   "source": [
    "np.dot(B,xx)"
   ]
  },
  {
   "cell_type": "code",
   "execution_count": 62,
   "id": "6e350e1e",
   "metadata": {},
   "outputs": [
    {
     "data": {
      "text/plain": [
       "array([[ 0.09402548],\n",
       "       [-0.91465725],\n",
       "       [-0.388067  ],\n",
       "       [-0.06297087]])"
      ]
     },
     "execution_count": 62,
     "metadata": {},
     "output_type": "execute_result"
    }
   ],
   "source": [
    "V1"
   ]
  },
  {
   "cell_type": "code",
   "execution_count": 74,
   "id": "70d7527b",
   "metadata": {},
   "outputs": [
    {
     "data": {
      "text/plain": [
       "array([[ 4.99600361e-16,  5.83961958e-02, -1.14449719e-01,\n",
       "         1.36816428e-01],\n",
       "       [-5.83961958e-02, -1.52655666e-16,  1.16646257e-01,\n",
       "        -8.69731037e-02],\n",
       "       [ 1.14449719e-01, -1.16646257e-01, -4.44089210e-16,\n",
       "        -1.02833358e-01],\n",
       "       [-1.36816428e-01,  8.69731037e-02,  1.02833358e-01,\n",
       "         4.44089210e-16]])"
      ]
     },
     "execution_count": 74,
     "metadata": {},
     "output_type": "execute_result"
    }
   ],
   "source": [
    "TT = np.zeros((4,4))\n",
    "\n",
    "for i in range(4):\n",
    "    for j in range(4):\n",
    "        TT[i][j] = np.dot(B[:,i].reshape(4,),V[:,j].reshape(4,))\n",
    "\n",
    "TT-M"
   ]
  },
  {
   "cell_type": "code",
   "execution_count": 71,
   "id": "f29cbd17",
   "metadata": {},
   "outputs": [
    {
     "data": {
      "text/plain": [
       "array([[ 0.09402548, -0.91465725, -0.388067  , -0.06297087],\n",
       "       [-0.85626105,  0.12102433, -0.50009899,  0.04550954],\n",
       "       [-0.50251671, -0.38345273,  0.77278639,  0.05693992],\n",
       "       [ 0.07384556, -0.04146357, -0.04589344,  0.99534989]])"
      ]
     },
     "execution_count": 71,
     "metadata": {},
     "output_type": "execute_result"
    }
   ],
   "source": [
    "T"
   ]
  },
  {
   "cell_type": "code",
   "execution_count": 72,
   "id": "91f95b4a",
   "metadata": {},
   "outputs": [
    {
     "data": {
      "text/plain": [
       "array([[ 0.09402548, -0.85626105, -0.50251671,  0.07384556],\n",
       "       [-0.91465725,  0.12102433, -0.38345273, -0.04146357],\n",
       "       [-0.388067  , -0.50009899,  0.77278639, -0.04589344],\n",
       "       [-0.06297087,  0.04550954,  0.05693992,  0.99534989]])"
      ]
     },
     "execution_count": 72,
     "metadata": {},
     "output_type": "execute_result"
    }
   ],
   "source": [
    "TT"
   ]
  },
  {
   "cell_type": "markdown",
   "id": "bc2e62a4",
   "metadata": {},
   "source": [
    "## PIB"
   ]
  },
  {
   "cell_type": "code",
   "execution_count": 40,
   "id": "89753db7",
   "metadata": {},
   "outputs": [],
   "source": [
    "M=np.ones(2)\n",
    "N=np.array([[1,3],[2,4]])"
   ]
  },
  {
   "cell_type": "code",
   "execution_count": 42,
   "id": "4eb0aef6",
   "metadata": {},
   "outputs": [
    {
     "data": {
      "text/plain": [
       "array([[1., 3.],\n",
       "       [2., 4.]])"
      ]
     },
     "execution_count": 42,
     "metadata": {},
     "output_type": "execute_result"
    }
   ],
   "source": [
    "N/M"
   ]
  },
  {
   "cell_type": "code",
   "execution_count": 39,
   "id": "2d05b0c7",
   "metadata": {},
   "outputs": [
    {
     "data": {
      "text/plain": [
       "array([[1, 0, 0, 0],\n",
       "       [2, 1, 0, 0],\n",
       "       [3, 0, 1, 0],\n",
       "       [4, 0, 0, 1]])"
      ]
     },
     "execution_count": 39,
     "metadata": {},
     "output_type": "execute_result"
    }
   ],
   "source": [
    "e1 = np.array([[1],[2],[3],[4]])\n",
    "e2 = np.array([[0],[1],[0],[0]])\n",
    "e3 = np.array([[0],[0],[1],[0]])\n",
    "e4 = np.array([[0],[0],[0],[1]])\n",
    "\n",
    "B=np.array([np.transpose(e1)[0],np.transpose(e2)[0],np.transpose(e3)[0],np.transpose(e4)[0]])\n",
    "B=np.transpose(B)\n",
    "B"
   ]
  },
  {
   "cell_type": "markdown",
   "id": "eef9d56e",
   "metadata": {},
   "source": [
    "## Sistema de partículas"
   ]
  },
  {
   "cell_type": "code",
   "execution_count": 15,
   "id": "49cc64be",
   "metadata": {
    "scrolled": true
   },
   "outputs": [
    {
     "data": {
      "text/plain": [
       "array([2., 2., 2., ..., 5., 2., 2.])"
      ]
     },
     "execution_count": 15,
     "metadata": {},
     "output_type": "execute_result"
    }
   ],
   "source": [
    "df['masas'].values"
   ]
  },
  {
   "cell_type": "code",
   "execution_count": 27,
   "id": "f57a61eb",
   "metadata": {},
   "outputs": [
    {
     "data": {
      "text/plain": [
       "25"
      ]
     },
     "execution_count": 27,
     "metadata": {},
     "output_type": "execute_result"
    }
   ],
   "source": [
    "a=np.array([1,2,3])\n",
    "b=np.array([2,4,5])\n",
    "np.dot(a,b)"
   ]
  },
  {
   "cell_type": "code",
   "execution_count": 28,
   "id": "49003af4",
   "metadata": {},
   "outputs": [
    {
     "data": {
      "text/plain": [
       "3"
      ]
     },
     "execution_count": 28,
     "metadata": {},
     "output_type": "execute_result"
    }
   ],
   "source": [
    "np.size(a)"
   ]
  },
  {
   "cell_type": "code",
   "execution_count": 35,
   "id": "4d6ba236",
   "metadata": {},
   "outputs": [
    {
     "data": {
      "text/plain": [
       "array([1717., 1464.,  -59.])"
      ]
     },
     "execution_count": 35,
     "metadata": {},
     "output_type": "execute_result"
    }
   ],
   "source": [
    "df.loc[1533,'x':'z'].values"
   ]
  },
  {
   "cell_type": "code",
   "execution_count": 85,
   "id": "98434a63",
   "metadata": {
    "scrolled": true
   },
   "outputs": [
    {
     "data": {
      "text/plain": [
       "array([[ -53.,   79.,  -91.],\n",
       "       [  13., -142., -177.],\n",
       "       [-109., -103., -120.]])"
      ]
     },
     "execution_count": 85,
     "metadata": {},
     "output_type": "execute_result"
    }
   ],
   "source": [
    "df.loc[1:3,'x':'z'].values"
   ]
  },
  {
   "cell_type": "code",
   "execution_count": 95,
   "id": "8941707a",
   "metadata": {},
   "outputs": [
    {
     "data": {
      "text/plain": [
       "array([20, 20, 20])"
      ]
     },
     "execution_count": 95,
     "metadata": {},
     "output_type": "execute_result"
    }
   ],
   "source": [
    "m=[1,2,3]\n",
    "np.dot(m,[[2,2,2],[3,3,3],[4,4,4]])"
   ]
  },
  {
   "cell_type": "code",
   "execution_count": 45,
   "id": "49117c30",
   "metadata": {},
   "outputs": [
    {
     "data": {
      "text/plain": [
       "825.8152150421439"
      ]
     },
     "execution_count": 45,
     "metadata": {},
     "output_type": "execute_result"
    }
   ],
   "source": [
    "np.dot(m,df['x'].values)/sum(m)"
   ]
  },
  {
   "cell_type": "code",
   "execution_count": 8,
   "id": "5a2174ce",
   "metadata": {},
   "outputs": [
    {
     "data": {
      "text/plain": [
       "array([ 2.27373675e-13, -1.13686838e-13])"
      ]
     },
     "execution_count": 8,
     "metadata": {},
     "output_type": "execute_result"
    },
    {
     "data": {
      "image/png": "[encoded data removed]",
      "text/plain": [
       "<Figure size 432x288 with 1 Axes>"
      ]
     },
     "metadata": {
      "needs_background": "light"
     },
     "output_type": "display_data"
    }
   ],
   "source": [
    "X = df['x'].values\n",
    "Y = df['y'].values\n",
    "plt.figure(figsize=(6,4))\n",
    "plt.plot(X,Y, '*b', markersize=2)\n",
    "#plt.plot(p[0],p[1],'om') #punto muy cercano al centro de masas - en realidad, es el centro geométrico.\n",
    "plt.plot(nu_1[0]/sum(m)+p[0],nu_1[1]/sum(m)+p[1],'or',label=\"centro de masas\")\n",
    "plt.plot(np.dot(m,df['x'].values)/sum(m),np.dot(m,df['y'].values)/sum(m),'or')\n",
    "\n",
    "cm = np.array([np.dot(m,df['x'].values)/sum(m),np.dot(m,df['y'].values)/sum(m)])\n",
    "#nu = np.array([nu_1[0],nu_1[1],0])\n",
    "#np.cross(cm,nu)\n",
    "cm2 = [nu_1[0]+p[0],nu_1[1]+p[1]]\n",
    "cm-cm2 #el error es casi cero"
   ]
  },
  {
   "cell_type": "code",
   "execution_count": 164,
   "id": "2fd53dcd",
   "metadata": {},
   "outputs": [
    {
     "data": {
      "text/plain": [
       "<matplotlib.legend.Legend at 0x2302187f8e0>"
      ]
     },
     "execution_count": 164,
     "metadata": {},
     "output_type": "execute_result"
    },
    {
     "data": {
      "image/png": "[encoded data removed]",
      "text/plain": [
       "<Figure size 432x288 with 1 Axes>"
      ]
     },
     "metadata": {
      "needs_background": "light"
     },
     "output_type": "display_data"
    }
   ],
   "source": [
    "X = df['x'].values\n",
    "Y = df['y'].values\n",
    "plt.figure(figsize=(6,4))\n",
    "plt.plot(X,Y, '*b', markersize=2)\n",
    "plt.plot(nu_1[0]/sum(m)+p[0],nu_1[1]/sum(m)+p[1],'or',label=\"centro de masas\")\n",
    "\n",
    "w = np.array([[0],[1]])\n",
    "L = np.dot(nu_2,w)\n",
    "plt.quiver(p[0],p[1],L[0],L[1],color='cyan',angles='xy', scale_units='xy', scale=1, label=\"Momentum Angular L\")\n",
    "plt.quiver(p[0],p[1],500*w[0],500*w[1],color='red',angles='xy', scale_units='xy', scale=1, label =\"velocidad angular w\")\n"
   ]
  },
  {
   "cell_type": "code",
   "execution_count": 71,
   "id": "c3c1b407",
   "metadata": {},
   "outputs": [
    {
     "data": {
      "text/plain": [
       "array([-2,  1,  0])"
      ]
     },
     "execution_count": 71,
     "metadata": {},
     "output_type": "execute_result"
    }
   ],
   "source": [
    "np.cross(a,b)"
   ]
  },
  {
   "cell_type": "code",
   "execution_count": 77,
   "id": "0acbaeee",
   "metadata": {
    "scrolled": true
   },
   "outputs": [
    {
     "data": {
      "text/plain": [
       "array([17773.73059361,  4850.6347032 ])"
      ]
     },
     "execution_count": 77,
     "metadata": {},
     "output_type": "execute_result"
    }
   ],
   "source": [
    "nu"
   ]
  },
  {
   "cell_type": "code",
   "execution_count": 79,
   "id": "ce9d7556",
   "metadata": {},
   "outputs": [
    {
     "data": {
      "text/plain": [
       "array([0, 0, 1])"
      ]
     },
     "execution_count": 79,
     "metadata": {},
     "output_type": "execute_result"
    }
   ],
   "source": [
    "a=[1,0,0]\n",
    "b=[2,1,0]\n",
    "np.cross(a,b)"
   ]
  },
  {
   "cell_type": "code",
   "execution_count": 104,
   "id": "845e6223",
   "metadata": {},
   "outputs": [],
   "source": [
    "M=np.zeros((2,2))"
   ]
  },
  {
   "cell_type": "code",
   "execution_count": 106,
   "id": "25e7bcb5",
   "metadata": {},
   "outputs": [
    {
     "data": {
      "text/plain": [
       "0.0"
      ]
     },
     "execution_count": 106,
     "metadata": {},
     "output_type": "execute_result"
    }
   ],
   "source": [
    "M[0][0]"
   ]
  },
  {
   "cell_type": "code",
   "execution_count": 110,
   "id": "1bda851a",
   "metadata": {},
   "outputs": [
    {
     "data": {
      "text/plain": [
       "array([[-821.97390737, -775.87018917],\n",
       "       [-821.97390737, -775.87018917]])"
      ]
     },
     "execution_count": 110,
     "metadata": {},
     "output_type": "execute_result"
    }
   ],
   "source": [
    "M-p"
   ]
  },
  {
   "cell_type": "code",
   "execution_count": 109,
   "id": "1de67937",
   "metadata": {},
   "outputs": [
    {
     "data": {
      "text/plain": [
       "array([ 2,  8, 15])"
      ]
     },
     "execution_count": 109,
     "metadata": {},
     "output_type": "execute_result"
    }
   ],
   "source": [
    "a=np.array([1,2,3])\n",
    "b=np.array([2,4,5])\n",
    "a*b"
   ]
  },
  {
   "cell_type": "code",
   "execution_count": null,
   "id": "086223e0",
   "metadata": {},
   "outputs": [],
   "source": []
  }
 ],
 "metadata": {
  "kernelspec": {
   "display_name": "Python 3 (ipykernel)",
   "language": "python",
   "name": "python3"
  },
  "language_info": {
   "codemirror_mode": {
    "name": "ipython",
    "version": 3
   },
   "file_extension": ".py",
   "mimetype": "text/x-python",
   "name": "python",
   "nbconvert_exporter": "python",
   "pygments_lexer": "ipython3",
   "version": "3.9.7"
  }
 },
 "nbformat": 4,
 "nbformat_minor": 5
}
