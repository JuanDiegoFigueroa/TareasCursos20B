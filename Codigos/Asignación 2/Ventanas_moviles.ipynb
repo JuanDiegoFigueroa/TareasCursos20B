{
 "cells": [
  {
   "cell_type": "markdown",
   "id": "e913913c",
   "metadata": {},
   "source": [
    "# Determinación distancia entre dos bases de datos"
   ]
  },
  {
   "cell_type": "markdown",
   "id": "258069ec",
   "metadata": {},
   "source": [
    "## 0. Se cargan las bibliotecas"
   ]
  },
  {
   "cell_type": "code",
   "execution_count": 20,
   "id": "d60a9d01",
   "metadata": {},
   "outputs": [],
   "source": [
    "import numpy as np\n",
    "import pandas as pd\n",
    "import datetime"
   ]
  },
  {
   "cell_type": "markdown",
   "id": "ecb9ed9a",
   "metadata": {},
   "source": [
    "## 1. Se leen los datos y se definen los parametros relevantes"
   ]
  },
  {
   "cell_type": "code",
   "execution_count": 9,
   "id": "ba851781",
   "metadata": {},
   "outputs": [],
   "source": [
    "data_AMB = pd.read_excel(\"datos_procesados_local_amb.xlsx\")\n",
    "data_LOW_COST = pd.read_excel(\"datos_procesados_local_low_cost.xlsx\")"
   ]
  },
  {
   "cell_type": "code",
   "execution_count": 10,
   "id": "177ced78",
   "metadata": {},
   "outputs": [
    {
     "data": {
      "text/html": [
       "<div>\n",
       "<style scoped>\n",
       "    .dataframe tbody tr th:only-of-type {\n",
       "        vertical-align: middle;\n",
       "    }\n",
       "\n",
       "    .dataframe tbody tr th {\n",
       "        vertical-align: top;\n",
       "    }\n",
       "\n",
       "    .dataframe thead th {\n",
       "        text-align: right;\n",
       "    }\n",
       "</style>\n",
       "<table border=\"1\" class=\"dataframe\">\n",
       "  <thead>\n",
       "    <tr style=\"text-align: right;\">\n",
       "      <th></th>\n",
       "      <th>Time</th>\n",
       "      <th>PM2.5 UG/M3</th>\n",
       "    </tr>\n",
       "  </thead>\n",
       "  <tbody>\n",
       "    <tr>\n",
       "      <th>0</th>\n",
       "      <td>2018-10-01 00:00:00</td>\n",
       "      <td>6.4</td>\n",
       "    </tr>\n",
       "    <tr>\n",
       "      <th>1</th>\n",
       "      <td>2018-10-01 01:00:00</td>\n",
       "      <td>6.4</td>\n",
       "    </tr>\n",
       "    <tr>\n",
       "      <th>2</th>\n",
       "      <td>2018-10-01 02:00:00</td>\n",
       "      <td>6.7</td>\n",
       "    </tr>\n",
       "    <tr>\n",
       "      <th>3</th>\n",
       "      <td>2018-10-01 03:00:00</td>\n",
       "      <td>6</td>\n",
       "    </tr>\n",
       "    <tr>\n",
       "      <th>4</th>\n",
       "      <td>2018-10-01 04:00:00</td>\n",
       "      <td>7.3</td>\n",
       "    </tr>\n",
       "    <tr>\n",
       "      <th>...</th>\n",
       "      <td>...</td>\n",
       "      <td>...</td>\n",
       "    </tr>\n",
       "    <tr>\n",
       "      <th>8025</th>\n",
       "      <td>2019-08-31 19:00:00</td>\n",
       "      <td>20.4</td>\n",
       "    </tr>\n",
       "    <tr>\n",
       "      <th>8026</th>\n",
       "      <td>2019-08-31 20:00:00</td>\n",
       "      <td>18.7</td>\n",
       "    </tr>\n",
       "    <tr>\n",
       "      <th>8027</th>\n",
       "      <td>2019-08-31 21:00:00</td>\n",
       "      <td>22.8</td>\n",
       "    </tr>\n",
       "    <tr>\n",
       "      <th>8028</th>\n",
       "      <td>2019-08-31 22:00:00</td>\n",
       "      <td>25.2</td>\n",
       "    </tr>\n",
       "    <tr>\n",
       "      <th>8029</th>\n",
       "      <td>2019-08-31 23:00:00</td>\n",
       "      <td>18</td>\n",
       "    </tr>\n",
       "  </tbody>\n",
       "</table>\n",
       "<p>8030 rows × 2 columns</p>\n",
       "</div>"
      ],
      "text/plain": [
       "                    Time PM2.5 UG/M3\n",
       "0    2018-10-01 00:00:00         6.4\n",
       "1    2018-10-01 01:00:00         6.4\n",
       "2    2018-10-01 02:00:00         6.7\n",
       "3    2018-10-01 03:00:00           6\n",
       "4    2018-10-01 04:00:00         7.3\n",
       "...                  ...         ...\n",
       "8025 2019-08-31 19:00:00        20.4\n",
       "8026 2019-08-31 20:00:00        18.7\n",
       "8027 2019-08-31 21:00:00        22.8\n",
       "8028 2019-08-31 22:00:00        25.2\n",
       "8029 2019-08-31 23:00:00          18\n",
       "\n",
       "[8030 rows x 2 columns]"
      ]
     },
     "execution_count": 10,
     "metadata": {},
     "output_type": "execute_result"
    }
   ],
   "source": [
    "data_AMB"
   ]
  },
  {
   "cell_type": "code",
   "execution_count": 11,
   "id": "50678e2a",
   "metadata": {
    "scrolled": true
   },
   "outputs": [
    {
     "data": {
      "text/html": [
       "<div>\n",
       "<style scoped>\n",
       "    .dataframe tbody tr th:only-of-type {\n",
       "        vertical-align: middle;\n",
       "    }\n",
       "\n",
       "    .dataframe tbody tr th {\n",
       "        vertical-align: top;\n",
       "    }\n",
       "\n",
       "    .dataframe thead th {\n",
       "        text-align: right;\n",
       "    }\n",
       "</style>\n",
       "<table border=\"1\" class=\"dataframe\">\n",
       "  <thead>\n",
       "    <tr style=\"text-align: right;\">\n",
       "      <th></th>\n",
       "      <th>Time</th>\n",
       "      <th>PM2.5 UG/M3</th>\n",
       "    </tr>\n",
       "  </thead>\n",
       "  <tbody>\n",
       "    <tr>\n",
       "      <th>0</th>\n",
       "      <td>2018-11-03 23:32:49.639</td>\n",
       "      <td>9.083333</td>\n",
       "    </tr>\n",
       "    <tr>\n",
       "      <th>1</th>\n",
       "      <td>2018-11-03 23:37:50.639</td>\n",
       "      <td>9.083333</td>\n",
       "    </tr>\n",
       "    <tr>\n",
       "      <th>2</th>\n",
       "      <td>2018-11-03 23:42:50.639</td>\n",
       "      <td>8.583334</td>\n",
       "    </tr>\n",
       "    <tr>\n",
       "      <th>3</th>\n",
       "      <td>2018-11-03 23:47:49.641</td>\n",
       "      <td>8.666667</td>\n",
       "    </tr>\n",
       "    <tr>\n",
       "      <th>4</th>\n",
       "      <td>2018-11-03 23:52:49.638</td>\n",
       "      <td>8.666666</td>\n",
       "    </tr>\n",
       "    <tr>\n",
       "      <th>...</th>\n",
       "      <td>...</td>\n",
       "      <td>...</td>\n",
       "    </tr>\n",
       "    <tr>\n",
       "      <th>5003</th>\n",
       "      <td>2019-09-01 00:02:50.912</td>\n",
       "      <td>6.166667</td>\n",
       "    </tr>\n",
       "    <tr>\n",
       "      <th>5004</th>\n",
       "      <td>2019-09-01 01:02:49.911</td>\n",
       "      <td>7.833333</td>\n",
       "    </tr>\n",
       "    <tr>\n",
       "      <th>5005</th>\n",
       "      <td>2019-09-01 02:02:49.912</td>\n",
       "      <td>5.416667</td>\n",
       "    </tr>\n",
       "    <tr>\n",
       "      <th>5006</th>\n",
       "      <td>2019-09-01 03:02:49.912</td>\n",
       "      <td>5.750000</td>\n",
       "    </tr>\n",
       "    <tr>\n",
       "      <th>5007</th>\n",
       "      <td>2019-09-01 04:03:01.820</td>\n",
       "      <td>19.166668</td>\n",
       "    </tr>\n",
       "  </tbody>\n",
       "</table>\n",
       "<p>5008 rows × 2 columns</p>\n",
       "</div>"
      ],
      "text/plain": [
       "                         Time  PM2.5 UG/M3\n",
       "0     2018-11-03 23:32:49.639     9.083333\n",
       "1     2018-11-03 23:37:50.639     9.083333\n",
       "2     2018-11-03 23:42:50.639     8.583334\n",
       "3     2018-11-03 23:47:49.641     8.666667\n",
       "4     2018-11-03 23:52:49.638     8.666666\n",
       "...                       ...          ...\n",
       "5003  2019-09-01 00:02:50.912     6.166667\n",
       "5004  2019-09-01 01:02:49.911     7.833333\n",
       "5005  2019-09-01 02:02:49.912     5.416667\n",
       "5006  2019-09-01 03:02:49.912     5.750000\n",
       "5007  2019-09-01 04:03:01.820    19.166668\n",
       "\n",
       "[5008 rows x 2 columns]"
      ]
     },
     "execution_count": 11,
     "metadata": {},
     "output_type": "execute_result"
    }
   ],
   "source": [
    "data_LOW_COST"
   ]
  },
  {
   "cell_type": "code",
   "execution_count": 13,
   "id": "b22275dd",
   "metadata": {},
   "outputs": [],
   "source": [
    "data_AMB['Time'] = pd.to_datetime(data_AMB['Time'])\n",
    "data_AMB = data_AMB.set_index('Time')\n",
    "\n",
    "data_LOW_COST['Time'] = pd.to_datetime(data_LOW_COST['Time'])\n",
    "data_LOW_COST = data_LOW_COST.set_index('Time')"
   ]
  },
  {
   "cell_type": "code",
   "execution_count": 23,
   "id": "656f671d",
   "metadata": {},
   "outputs": [],
   "source": [
    "a1 = data_AMB['PM2.5 UG/M3'][0]\n",
    "b1 = data_AMB['PM2.5 UG/M3'][-1]\n",
    "\n",
    "a2 = data_LOW_COST['PM2.5 UG/M3'][0]\n",
    "b2 = data_LOW_COST['PM2.5 UG/M3'][-1]\n",
    "\n",
    "l = datetime.timedelta(hours=5)\n",
    "\n",
    "Eps = datetime.timedelta(hours=1)\n",
    "\n",
    "Errores = []"
   ]
  },
  {
   "cell_type": "code",
   "execution_count": 24,
   "id": "b5c3b6d0",
   "metadata": {},
   "outputs": [
    {
     "data": {
      "text/plain": [
       "datetime.timedelta(seconds=18000)"
      ]
     },
     "execution_count": 24,
     "metadata": {},
     "output_type": "execute_result"
    }
   ],
   "source": [
    "l"
   ]
  },
  {
   "cell_type": "code",
   "execution_count": null,
   "id": "ec76a43b",
   "metadata": {},
   "outputs": [],
   "source": []
  }
 ],
 "metadata": {
  "kernelspec": {
   "display_name": "Python 3 (ipykernel)",
   "language": "python",
   "name": "python3"
  },
  "language_info": {
   "codemirror_mode": {
    "name": "ipython",
    "version": 3
   },
   "file_extension": ".py",
   "mimetype": "text/x-python",
   "name": "python",
   "nbconvert_exporter": "python",
   "pygments_lexer": "ipython3",
   "version": "3.9.7"
  }
 },
 "nbformat": 4,
 "nbformat_minor": 5
}
